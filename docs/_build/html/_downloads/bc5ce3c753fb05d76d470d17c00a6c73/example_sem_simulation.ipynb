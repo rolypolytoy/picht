{
  "cells": [
    {
      "cell_type": "markdown",
      "metadata": {},
      "source": [
        "\n# Advanced Use Case: SEM Simulation\n\nHere's a full simulation of an electrostatic lens-only scanning electron microscope (SEM), where we combine\nelectrostatic lenses, einzel lenses, and complex acceleration, focusing and defocusing behaviors in one instance:\n"
      ]
    },
    {
      "cell_type": "code",
      "execution_count": null,
      "metadata": {
        "collapsed": false
      },
      "outputs": [],
      "source": [
        "import numpy as np\nfrom picht import IonOpticsSystem, ElectrodeConfig\nimport matplotlib.pyplot as plt\n\nsystem = IonOpticsSystem(nr=100, nz=600, axial_size=0.6, radial_size = 0.1)\n\n\nwehnelt1 = ElectrodeConfig(\n    start=0,\n    width=30,\n    ap_start=30,\n    ap_width=40,\n    outer_diameter = 50,\n    voltage=-5100\n)\nwehnelt2 = ElectrodeConfig(\n    start=30,\n    width=5,\n    ap_start=40,\n    ap_width=20,\n    outer_diameter = 50,\n    voltage=-5100\n)\nsystem.add_electrode(wehnelt1)\nsystem.add_electrode(wehnelt2)\nanode = ElectrodeConfig(\n    start=40,\n    width = 2,\n    ap_start=48,\n    ap_width=4,\n    outer_diameter = 50,\n    voltage=0\n)\ncathode = ElectrodeConfig(\n    start=22,\n    width = 2,\n    ap_start=50,\n    ap_width=0,\n    outer_diameter = 2,\n    voltage=-5000\n)\n\nsystem.add_electrode(anode)\nsystem.add_einzel_lens(\n    position=80.0,\n    width=60.0,\n    aperture_center=50.0,\n    aperture_width=48.0,\n    outer_diameter=50.0,\n    focus_voltage=-7000\n)\n\nsystem.add_einzel_lens(\n    position=160.0,\n    width=60.0,\n    aperture_center=50.0,\n    aperture_width=48.0,\n    outer_diameter=50.0,\n    focus_voltage=-6500\n)\npotential = system.solve_fields()\n\ntrajectories = system.simulate_beam(\n    energy_eV= 10,  \n    start_z=0.025,\n    r_range=(0.0499925, 0.0500075),\n    angle_range=(-2, 2),\n    num_particles=6,\n    simulation_time=1e-8\n)\n\nfigure = system.visualize_system(\n    trajectories=trajectories)\n\nplt.show()"
      ]
    }
  ],
  "metadata": {
    "kernelspec": {
      "display_name": "Python 3",
      "language": "python",
      "name": "python3"
    },
    "language_info": {
      "codemirror_mode": {
        "name": "ipython",
        "version": 3
      },
      "file_extension": ".py",
      "mimetype": "text/x-python",
      "name": "python",
      "nbconvert_exporter": "python",
      "pygments_lexer": "ipython3",
      "version": "3.12.10"
    }
  },
  "nbformat": 4,
  "nbformat_minor": 0
}