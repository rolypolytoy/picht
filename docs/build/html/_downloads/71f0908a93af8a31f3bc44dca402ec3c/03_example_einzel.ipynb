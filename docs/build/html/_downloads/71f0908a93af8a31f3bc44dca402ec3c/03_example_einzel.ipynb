{
  "cells": [
    {
      "cell_type": "markdown",
      "metadata": {},
      "source": [
        "\n# Unipotential Lenses: Deflection\nSome problems that may occur when you set your focus voltage drastically above your energy in eV can be demonstrated by this example.\nHere the beam energy is only 1000 eV but we set the einzel lens to a -50kV focus voltage. Here, we see beam reflection, due to the extremely strong fields coming from the unipotential lens.\nWhenever chaining several einzel lenses, this problem becomes especially pertinent, so carefully tuning electron energies and einzel lens focus voltages are important. Minimize the difference\nbetween aperture_width and outer_diameter as well, for cleaner field configurations.\n"
      ]
    },
    {
      "cell_type": "code",
      "execution_count": null,
      "metadata": {
        "collapsed": false
      },
      "outputs": [],
      "source": [
        "import numpy as np\nfrom picht import ElectronOptics, ElectrodeConfig\nimport matplotlib.pyplot as plt\n\nsystem = ElectronOptics(nr=100, nz=400, axial_size=0.4, radial_size = 0.1)\n\n\nsystem.add_einzel_lens(\n    position=100.0,\n    width=10.0,\n    aperture_center=50.0,\n    aperture_width=40.0,\n    outer_diameter=80.0,\n    focus_voltage=-50000\n)\n\npotential = system.solve_fields()\n\ntrajectories = system.simulate_beam(\n    energy_eV= 1000,  \n    start_z=0,\n    r_range=(0.045, 0.055),\n    angle_range=(0, 0),\n    num_particles=10,\n    simulation_time=1e-8\n)\n\nfigure = system.visualize_system(\n    trajectories=trajectories,  \n    display_options=[True, False, False, False])\n\nplt.show()"
      ]
    }
  ],
  "metadata": {
    "kernelspec": {
      "display_name": "Python 3",
      "language": "python",
      "name": "python3"
    },
    "language_info": {
      "codemirror_mode": {
        "name": "ipython",
        "version": 3
      },
      "file_extension": ".py",
      "mimetype": "text/x-python",
      "name": "python",
      "nbconvert_exporter": "python",
      "pygments_lexer": "ipython3",
      "version": "3.12.10"
    }
  },
  "nbformat": 4,
  "nbformat_minor": 0
}