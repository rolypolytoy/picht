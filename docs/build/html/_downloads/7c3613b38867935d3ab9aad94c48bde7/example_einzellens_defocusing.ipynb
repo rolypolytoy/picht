{
  "cells": [
    {
      "cell_type": "markdown",
      "metadata": {},
      "source": [
        "\n# Unipotential Lenses: Defocusing\nHere, we can see valid focusing behavior, which happens when the focus voltage is negative, and the particle is negatively charged, or vice versa. \nWe can thus make an einzel lens that causes divergent behavior by re-using the same code but flipping the sign on focus_voltage from -5000 to 5000.\nWe can see clearly visible defocusing, demonstrating how einzel lenses are cleanly usable for both focusing and defocusing with single-character changes in the code:\n"
      ]
    },
    {
      "cell_type": "code",
      "execution_count": null,
      "metadata": {
        "collapsed": false
      },
      "outputs": [],
      "source": [
        "import numpy as np\nfrom picht import IonOpticsSystem, ElectrodeConfig\nimport matplotlib.pyplot as plt\n\nsystem = IonOpticsSystem(nr=100, nz=600, axial_size=0.6, radial_size = 0.1)\n\n\nsystem.add_einzel_lens(\n    position=20.0,\n    width=60.0,\n    aperture_center=50.0,\n    aperture_width=48.0,\n    outer_diameter=50.0,\n    focus_voltage=5000\n)\n\npotential = system.solve_fields()\n\ntrajectories = system.simulate_beam(\n    energy_eV= 10000,  \n    start_z=0,\n    r_range=(0.0499925, 0.0500075),\n    angle_range=(0, 0),\n    num_particles=6,\n    simulation_time=2e-9\n)\n\nfigure = system.visualize_system(\n    trajectories=trajectories)\n\nplt.show()"
      ]
    }
  ],
  "metadata": {
    "kernelspec": {
      "display_name": "Python 3",
      "language": "python",
      "name": "python3"
    },
    "language_info": {
      "codemirror_mode": {
        "name": "ipython",
        "version": 3
      },
      "file_extension": ".py",
      "mimetype": "text/x-python",
      "name": "python",
      "nbconvert_exporter": "python",
      "pygments_lexer": "ipython3",
      "version": "3.12.10"
    }
  },
  "nbformat": 4,
  "nbformat_minor": 0
}