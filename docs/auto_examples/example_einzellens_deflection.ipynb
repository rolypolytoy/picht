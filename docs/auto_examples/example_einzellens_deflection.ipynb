{
  "cells": [
    {
      "cell_type": "markdown",
      "metadata": {},
      "source": [
        "\n# Unipotential Lenses: Deflection\nSome problems that may occur when you set your focus voltage drastically above your energy in eV can be demonstrated by this example.\nHere the beam energy is only 100 eV but we revert to a -5kV focus voltage. Here, we see beam reflection, due to the extremely strong fields coming from the unipotential lens.\nWhenever chaining several einzel lenses, this problem becomes especially pertinent, so carefully tuning electron energies and einzel lens focus voltages are important. Minimize the difference\nbetween aperture_width and outer_diameter as well, for cleaner field configurations.\n"
      ]
    },
    {
      "cell_type": "code",
      "execution_count": null,
      "metadata": {
        "collapsed": false
      },
      "outputs": [],
      "source": [
        "import numpy as np\nfrom picht import IonOpticsSystem, ElectrodeConfig\nimport matplotlib.pyplot as plt\n\nsystem = IonOpticsSystem(nr=100, nz=600, axial_size=0.6, radial_size = 0.1)\n\n\nsystem.add_einzel_lens(\n    position=20.0,\n    width=60.0,\n    aperture_center=50.0,\n    aperture_width=48.0,\n    outer_diameter=50.0,\n    focus_voltage=-5000\n)\n\npotential = system.solve_fields()\n\ntrajectories = system.simulate_beam(\n    energy_eV= 100,  \n    start_z=0,\n    r_range=(0.0499925, 0.0500075),\n    angle_range=(0, 0),\n    num_particles=6,\n    simulation_time=2e-9\n)\n\nfigure = system.visualize_system(\n    trajectories=trajectories)\n\nplt.show()"
      ]
    }
  ],
  "metadata": {
    "kernelspec": {
      "display_name": "Python 3",
      "language": "python",
      "name": "python3"
    },
    "language_info": {
      "codemirror_mode": {
        "name": "ipython",
        "version": 3
      },
      "file_extension": ".py",
      "mimetype": "text/x-python",
      "name": "python",
      "nbconvert_exporter": "python",
      "pygments_lexer": "ipython3",
      "version": "3.12.10"
    }
  },
  "nbformat": 4,
  "nbformat_minor": 0
}