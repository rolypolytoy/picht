{
  "cells": [
    {
      "cell_type": "markdown",
      "metadata": {},
      "source": [
        "\n# Electrode Creation\nBefore creating any electrodes, we need to familiarize ourselves with a few concepts. First- whenever you initialize a system, you need to pick \nnr, nz, axial_size and radial_size. nr is the grid resolution in the r-dimension, and nz is the same for the z-dimension. Axial_size is the total \nlength of the domain in meters in the z-dimension, and radial_size is the same for the r-dimension.\n\nThis means the grid resolution in the z-dimension is axial_size/nz, and in the r-dimension is radial_size/nr. You should, if using nonstandard values for these,\nensure you're aware of these so you can properly convert from grid units to meters.\n\nYou can initialize a cylindrical electrode with -5000V focus voltage and 10keV energy per electron as follows:\n"
      ]
    },
    {
      "cell_type": "code",
      "execution_count": null,
      "metadata": {
        "collapsed": false
      },
      "outputs": [],
      "source": [
        "import numpy as np\nfrom picht import IonOpticsSystem, ElectrodeConfig\nimport matplotlib.pyplot as plt\n\nsystem = IonOpticsSystem(nr=100, nz=600, axial_size=0.6, radial_size = 0.1)\n\nelectrode = ElectrodeConfig(\n    start=30,\n    width=200,\n    ap_start=30,\n    ap_width=40,\n    outer_diameter = 50,\n    voltage=-2000\n)\n\nsystem.add_electrode(electrode)\n\npotential = system.solve_fields()\n\ntrajectories = system.simulate_beam(\n    energy_eV= 10000,  \n    start_z=0,\n    r_range=(0.04, 0.06),\n    angle_range=(0, 0),\n    num_particles=10,\n    simulation_time=1e-8\n)\n\nfigure = system.visualize_system(\n    trajectories=trajectories, \n    display_options=[True, False, False, False]) #only switches on the lens visualization, keeps the e-field, b-field and animations off in the start, so the generated thumbnails look cleaner\n\nplt.show()"
      ]
    }
  ],
  "metadata": {
    "kernelspec": {
      "display_name": "Python 3",
      "language": "python",
      "name": "python3"
    },
    "language_info": {
      "codemirror_mode": {
        "name": "ipython",
        "version": 3
      },
      "file_extension": ".py",
      "mimetype": "text/x-python",
      "name": "python",
      "nbconvert_exporter": "python",
      "pygments_lexer": "ipython3",
      "version": "3.12.10"
    }
  },
  "nbformat": 4,
  "nbformat_minor": 0
}