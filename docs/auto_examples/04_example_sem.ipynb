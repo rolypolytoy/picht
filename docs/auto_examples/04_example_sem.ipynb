{
  "cells": [
    {
      "cell_type": "markdown",
      "metadata": {},
      "source": [
        "\n# Full-Scale SEM Simulation\n\nHere's a full simulation of an electrostatic lens-only scanning electron microscope (SEM), where we combine\nelectrostatic lenses, einzel lenses, and complex acceleration, focusing and defocusing behaviors in one instance. We chain together several\nelectrodes, a condenser (einzel) lens, and an objective (einzel) lens and observe two full crossovers- that's where the beams make an X.\nNote how because of the clean-ness of the design, it looks like two clean lines- this isn't because we've parameterized the beam this way, but because\nof the electron optics at play. Tinker with the parameters here, see how things change. Note: You'll have to zoom in for this, because the default system is WAY too small to see.\nLearn to use matplotlib's visualization tools to better understand the system.\n\nSome design decisions we've made for full physical realism include: 0.1 eV beam initialization to mimic thermionic emission from tungsten\n5kV accelerating voltage from a hairpin cathode, with -100V biased Wehnelt Cylinders.\nA -7200V condenser lens and a -10,000V objective lens.\nThree total crossover points of increasing tightness.\n"
      ]
    },
    {
      "cell_type": "code",
      "execution_count": null,
      "metadata": {
        "collapsed": false
      },
      "outputs": [],
      "source": [
        "import numpy as np\nfrom picht import IonOpticsSystem, ElectrodeConfig\nimport matplotlib.pyplot as plt\n\nsystem = IonOpticsSystem(nr=100, nz=400, axial_size=0.4, radial_size = 0.1)\n\n\n#Wehnelt Cylinders- responsible for the first crossover\nwehnelt1 = ElectrodeConfig(\n    start=0,\n    width=30,\n    ap_start=30,\n    ap_width=40,\n    outer_diameter = 50,\n    voltage=-5100 #biased at -100V in relation to the cathode\n)\nwehnelt2 = ElectrodeConfig(\n    start=30,\n    width=5,\n    ap_start=45,\n    ap_width=10,\n    outer_diameter = 50,\n    voltage=-5100 #biased at -100V in relation to the cathode\n)\nsystem.add_electrode(wehnelt1)\nsystem.add_electrode(wehnelt2)\n\n#Anode- +5000V in relation to the cathode, to provide acceleration\nanode = ElectrodeConfig(\n    start=50,\n    width = 2,\n    ap_start=49,\n    ap_width=2,\n    outer_diameter = 50,\n    voltage=0\n)\n#Cathode- represents the thermionic tungsten filament electrons boil off from\ncathode = ElectrodeConfig(\n    start=24,\n    width = 1,\n    ap_start=50,\n    ap_width=0,\n    outer_diameter = 2,\n    voltage=-5000\n)\nsystem.add_electrode(anode)\nsystem.add_electrode(cathode)\n\n#Condenser Lens- In between the first and second crossover point, provides initial focusing\nsystem.add_einzel_lens(\n    position= 70.0,\n    width=70.0,\n    aperture_center=50.0,\n    aperture_width=48.0,\n    outer_diameter=50.0,\n    focus_voltage=-7200\n)\n\n#A Beam-Limiting Aperture comes between the lenses to add a demagnification ratio\n\n#Objective Lens- Provides final focusing mere millimeters after its end\nsystem.add_einzel_lens(\n    position= 142.0,\n    width=63.0,\n    aperture_center=50.0,\n    aperture_width=48.0,\n    outer_diameter=50.0,\n    focus_voltage=-10000\n)\n\npotential = system.solve_fields()\n\n#Notice how we initialize it at only 0.1 eV- the acceleration happens from the field lines between the cathode and anode\ntrajectories = system.simulate_beam(\n    energy_eV= 0.1,  \n    start_z=0.025, #We begin at z = 0.025, or 25 grid units in the z-direction so that there's a bit of Wehnelt Cylinder behind this\n    r_range=(0.0499925, 0.0500075), #15 micron thick beam, which is a realistic amount\n    angle_range=(-2, 2), #very high initial angular divergence to mimic thermionic emission\n    num_particles=100, #increasing this won't improve visualization, because the beams are artificially forced into an axisymmetric path because of the electrode configurations\n    simulation_time=2e-8 #empirically found value for when the full simulation completes\n)\n\nfigure = system.visualize_system(\n    trajectories=trajectories,  \n    display_options=[True, False, False, False])\n\nplt.show()"
      ]
    }
  ],
  "metadata": {
    "kernelspec": {
      "display_name": "Python 3",
      "language": "python",
      "name": "python3"
    },
    "language_info": {
      "codemirror_mode": {
        "name": "ipython",
        "version": 3
      },
      "file_extension": ".py",
      "mimetype": "text/x-python",
      "name": "python",
      "nbconvert_exporter": "python",
      "pygments_lexer": "ipython3",
      "version": "3.12.10"
    }
  },
  "nbformat": 4,
  "nbformat_minor": 0
}