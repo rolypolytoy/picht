{
  "cells": [
    {
      "cell_type": "markdown",
      "metadata": {},
      "source": [
        "\n# Magnetic Lens Creation\nInitialize a magnetic lens with the same parameters as electrodes, but with a few new concepts.\n\nMu_r is the relative permeability- a dimensionless constant specific to what material the magnet is. Iron has ~1000, air has 1, higher values increase the flux density (magnetic field strength).\nMMF is the magnetomotive force- sometimes referred to as ampere-turns. This is the magnetic analogue to voltage. By specifying MMF and Mu_r you control the properties of the magnet, especially since these are applicable\nboth to DC electromagnets and permanent magnets.\n\nSince the paraxial ray equation can sometimes create harmless artefacts at the middle particle's trajectories, feel free to increase nr and nz more than you would for electrostatic lenses. The multigrid handler can take it.\n"
      ]
    },
    {
      "cell_type": "code",
      "execution_count": null,
      "metadata": {
        "collapsed": false
      },
      "outputs": [],
      "source": [
        "import numpy as np\nfrom picht import IonOpticsSystem, ElectrodeConfig, MagneticLensConfig\nimport matplotlib.pyplot as plt\n\nsystem = IonOpticsSystem(nr=200, nz=400, axial_size=0.1, radial_size=0.1)\n\nmag_config = MagneticLensConfig(\n    start=100,\n    length=50,  \n    ap_start=80,\n    ap_width=40,\n    outer_diameter = 100,\n    mu_r=1000,\n    mmf=200\n)\nsystem.add_magnetic_lens(mag_config)\n\nsystem.solve_fields()\n\ntrajectories = system.simulate_beam(\n    energy_eV=10000,\n    start_z=0,\n    r_range=(0.042, 0.058),\n    angle_range=(0, 0),\n    num_particles=20,\n    simulation_time=1e-9\n)\n\nfig = system.visualize_system(trajectories=trajectories)\nplt.show()"
      ]
    }
  ],
  "metadata": {
    "kernelspec": {
      "display_name": "Python 3",
      "language": "python",
      "name": "python3"
    },
    "language_info": {
      "codemirror_mode": {
        "name": "ipython",
        "version": 3
      },
      "file_extension": ".py",
      "mimetype": "text/x-python",
      "name": "python",
      "nbconvert_exporter": "python",
      "pygments_lexer": "ipython3",
      "version": "3.12.10"
    }
  },
  "nbformat": 4,
  "nbformat_minor": 0
}