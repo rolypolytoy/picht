{
  "cells": [
    {
      "cell_type": "markdown",
      "metadata": {},
      "source": [
        "\n# Unipotential Lenses\nEinzel lenses are three cylindrical lenses arranged in a specific pattern: the first electrode is grounded (0V), the second is at its focus_voltage, and the third is also grounded at (0V). \nThey're called unipotential lenses because they can provide beam focusing and defocusing without affecting the beam's net energy, which reduces (sometimes!) the behavior we saw in cylindrical electrodes.\nAlways make sure the aperture_center (in grid units) aligns with the center of the r_range() when you parameterize your beam.\n\nWe'll first examine an example of an einzel lens used for focusing, which happens when the polarity of the focus_voltage is the same as the polarity of the charge-\neither negative to negative, or positive to positive. We'll thus set it to -500V, with initial electron energies at 1keV. Observe the bulge, and then the focal point.\n"
      ]
    },
    {
      "cell_type": "code",
      "execution_count": null,
      "metadata": {
        "collapsed": false
      },
      "outputs": [],
      "source": [
        "import numpy as np\nfrom picht import ElectronOptics, ElectrodeConfig\nimport matplotlib.pyplot as plt\n\nsystem = ElectronOptics(nr=100, nz=600, axial_size=0.6, radial_size = 0.1)\n\nsystem.add_einzel_lens(\n    position=20.0,\n    width=300.0,\n    aperture_center=50.0,\n    aperture_width=48.0,\n    outer_diameter=50.0,\n    focus_voltage=-500\n)\n\npotential = system.solve_fields()\n\ntrajectories = system.simulate_beam(\n    energy_eV= 1000,  \n    start_z=0,\n    r_range=(0.045, 0.055),\n    angle_range=(0, 0),\n    num_particles=10,\n    simulation_time=1e-7\n)\n\nfigure = system.visualize_system(\n    trajectories=trajectories,  \n    display_options=[True, False, False, False])\n\nplt.show()"
      ]
    }
  ],
  "metadata": {
    "kernelspec": {
      "display_name": "Python 3",
      "language": "python",
      "name": "python3"
    },
    "language_info": {
      "codemirror_mode": {
        "name": "ipython",
        "version": 3
      },
      "file_extension": ".py",
      "mimetype": "text/x-python",
      "name": "python",
      "nbconvert_exporter": "python",
      "pygments_lexer": "ipython3",
      "version": "3.12.10"
    }
  },
  "nbformat": 4,
  "nbformat_minor": 0
}